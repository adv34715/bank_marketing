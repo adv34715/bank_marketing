{
 "cells": [
  {
   "cell_type": "code",
   "execution_count": 155,
   "metadata": {
    "collapsed": true
   },
   "outputs": [],
   "source": [
    "import pandas as pd\n",
    "from sklearn import preprocessing\n",
    "import argparse\n",
    "import numpy as np\n",
    "import scipy\n",
    "import csv\n",
    "from sklearn.ensemble import RandomForestClassifier\n",
    "from sklearn.cross_validation import cross_val_score\n",
    "from time import time\n",
    "import matplotlib.pyplot as plt\n",
    "from sklearn.tree import DecisionTreeClassifier\n",
    "from sklearn.linear_model import LogisticRegression\n",
    "from sklearn.cross_validation import train_test_split\n",
    "from sklearn.neural_network import BernoulliRBM\n",
    "from sklearn.pipeline import Pipeline\n",
    "from sklearn.metrics import roc_curve, auc, roc_auc_score\n",
    "from sklearn.utils import shuffle\n",
    "from sklearn.svm import SVC\n",
    "from sklearn.grid_search import ParameterGrid\n",
    "import pylab as pl\n",
    "from sklearn.metrics import mean_squared_error, accuracy_score\n",
    "from sklearn.grid_search import GridSearchCV\n",
    "from sklearn.grid_search import ParameterGrid\n",
    "from scipy import interp\n",
    "from sklearn.cross_validation import StratifiedKFold\n",
    "import math\n",
    "import sys\n",
    "%matplotlib inline"
   ]
  },
  {
   "cell_type": "code",
   "execution_count": 164,
   "metadata": {
    "collapsed": true
   },
   "outputs": [],
   "source": [
    "INPUT_PRICE = 25\n",
    "INPUT_COST = 10"
   ]
  },
  {
   "cell_type": "code",
   "execution_count": 157,
   "metadata": {
    "collapsed": true
   },
   "outputs": [],
   "source": [
    "data = pd.read_csv('bank-additional-full.csv', delimiter=';')\n",
    "\n",
    "# Label Encoding\n",
    "lab = preprocessing.LabelEncoder()\n",
    "data.job = lab.fit_transform(data.job)\n",
    "data.marital = lab.fit_transform(data.marital)\n",
    "data.education = lab.fit_transform(data.education)\n",
    "data.default = lab.fit_transform(data.default)\n",
    "data.housing = lab.fit_transform(data.housing)\n",
    "data.loan = lab.fit_transform(data.loan)\n",
    "data.contact = lab.fit_transform(data.contact)\n",
    "data.month = lab.fit_transform(data.month)\n",
    "data['day_of_week'] = lab.fit_transform(data['day_of_week'])\n",
    "data.poutcome = lab.fit_transform(data.poutcome)\n",
    "data.y = lab.fit_transform(data.y)"
   ]
  },
  {
   "cell_type": "code",
   "execution_count": 158,
   "metadata": {
    "collapsed": true
   },
   "outputs": [],
   "source": [
    "features = data.as_matrix() # features shape: (41188, 21)\n",
    "target = features[:, 20]\n",
    "features_numeric = features[:, 0:20] # shape: (41188, 20) (index 20 won't be included)"
   ]
  },
  {
   "cell_type": "code",
   "execution_count": 159,
   "metadata": {
    "collapsed": false
   },
   "outputs": [
    {
     "name": "stdout",
     "output_type": "stream",
     "text": [
      "[  5.60000000e+01   3.00000000e+00   1.00000000e+00   0.00000000e+00\n",
      "   0.00000000e+00   0.00000000e+00   0.00000000e+00   1.00000000e+00\n",
      "   6.00000000e+00   1.00000000e+00   2.61000000e+02   1.00000000e+00\n",
      "   9.99000000e+02   0.00000000e+00   1.00000000e+00   1.10000000e+00\n",
      "   9.39940000e+01  -3.64000000e+01   4.85700000e+00   5.19100000e+03]\n",
      "[12  4  8  3  3  3  2 10  5  3]\n",
      "[ 0 12 16 24 27 30 33 35 45 50 53]\n",
      "63\n",
      "[  0.00000000e+00   0.00000000e+00   0.00000000e+00   1.00000000e+00\n",
      "   0.00000000e+00   0.00000000e+00   0.00000000e+00   0.00000000e+00\n",
      "   0.00000000e+00   0.00000000e+00   0.00000000e+00   0.00000000e+00\n",
      "   0.00000000e+00   1.00000000e+00   0.00000000e+00   0.00000000e+00\n",
      "   1.00000000e+00   0.00000000e+00   0.00000000e+00   0.00000000e+00\n",
      "   0.00000000e+00   0.00000000e+00   0.00000000e+00   0.00000000e+00\n",
      "   1.00000000e+00   0.00000000e+00   0.00000000e+00   1.00000000e+00\n",
      "   0.00000000e+00   0.00000000e+00   1.00000000e+00   0.00000000e+00\n",
      "   0.00000000e+00   0.00000000e+00   1.00000000e+00   0.00000000e+00\n",
      "   0.00000000e+00   0.00000000e+00   0.00000000e+00   0.00000000e+00\n",
      "   0.00000000e+00   1.00000000e+00   0.00000000e+00   0.00000000e+00\n",
      "   0.00000000e+00   0.00000000e+00   1.00000000e+00   0.00000000e+00\n",
      "   0.00000000e+00   0.00000000e+00   0.00000000e+00   1.00000000e+00\n",
      "   0.00000000e+00   5.60000000e+01   2.61000000e+02   1.00000000e+00\n",
      "   9.99000000e+02   0.00000000e+00   1.10000000e+00   9.39940000e+01\n",
      "  -3.64000000e+01   4.85700000e+00   5.19100000e+03]\n"
     ]
    }
   ],
   "source": [
    "print(features_numeric[0])\n",
    "# [  5.60000000e+01   3.00000000e+00   1.00000000e+00   0.00000000e+00\n",
    "#    0.00000000e+00   0.00000000e+00   0.00000000e+00   1.00000000e+00\n",
    "#    6.00000000e+00   1.00000000e+00   2.61000000e+02   1.00000000e+00\n",
    "#    9.99000000e+02   0.00000000e+00   1.00000000e+00   1.10000000e+00\n",
    "#    9.39940000e+01  -3.64000000e+01   4.85700000e+00   5.19100000e+03]\n",
    "\n",
    "# One-k-scheme encoding\n",
    "from sklearn.preprocessing import OneHotEncoder\n",
    "cat_indices = np.array([[1,2,3,4,5,6,7,8,9,14]]) # [[ 1  2  3  4  5  6  7  8  9 14]]\n",
    "\n",
    "enc = OneHotEncoder(categorical_features = cat_indices)\n",
    "encoded_features1 = enc.fit_transform(features_numeric)\n",
    "print(enc.n_values_)\n",
    "# [12  4  8  3  3  3  2 10  5  3]\n",
    "\n",
    "print(enc.feature_indices_)\n",
    "# [ 0 12 16 24 27 30 33 35 45 50 53]\n",
    "\n",
    "print(len(encoded_features1.toarray()[0]))\n",
    "# 63\n",
    "\n",
    "print(encoded_features1.toarray()[0]) # print the first row of data (it has rearranged category features in front of all continuous features)\n",
    "# [  0.00000000e+00   0.00000000e+00   0.00000000e+00   1.00000000e+00(housemaid, which is encoded as 3)\n",
    "#    0.00000000e+00   0.00000000e+00   0.00000000e+00   0.00000000e+00\n",
    "#    0.00000000e+00   0.00000000e+00   0.00000000e+00   0.00000000e+00\n",
    "#    0.00000000e+00   1.00000000e+00   0.00000000e+00   0.00000000e+00\n",
    "#    1.00000000e+00   0.00000000e+00   0.00000000e+00   0.00000000e+00\n",
    "#    0.00000000e+00   0.00000000e+00   0.00000000e+00   0.00000000e+00\n",
    "#    1.00000000e+00   0.00000000e+00   0.00000000e+00   1.00000000e+00\n",
    "#    0.00000000e+00   0.00000000e+00   1.00000000e+00   0.00000000e+00\n",
    "#    0.00000000e+00   0.00000000e+00   1.00000000e+00   0.00000000e+00\n",
    "#    0.00000000e+00   0.00000000e+00   0.00000000e+00   0.00000000e+00\n",
    "#    0.00000000e+00   1.00000000e+00   0.00000000e+00   0.00000000e+00\n",
    "#    0.00000000e+00   0.00000000e+00   1.00000000e+00   0.00000000e+00\n",
    "#    0.00000000e+00   0.00000000e+00   0.00000000e+00   1.00000000e+00\n",
    "#    0.00000000e+00   5.60000000e+01   2.61000000e+02   1.00000000e+00\n",
    "#    9.99000000e+02   0.00000000e+00   1.10000000e+00   9.39940000e+01\n",
    "#   -3.64000000e+01   4.85700000e+00   5.19100000e+03]\n"
   ]
  },
  {
   "cell_type": "code",
   "execution_count": 160,
   "metadata": {
    "collapsed": false
   },
   "outputs": [
    {
     "name": "stdout",
     "output_type": "stream",
     "text": [
      "(24712, 63)\n",
      "(16476, 63)\n"
     ]
    }
   ],
   "source": [
    "# Splitting data\n",
    "X_train, X_test, Y_train, Y_test = train_test_split(encoded_features1.todense(), target, test_size=0.4, random_state=0)\n",
    "print(X_train.shape)\n",
    "print(X_test.shape)"
   ]
  },
  {
   "cell_type": "code",
   "execution_count": 163,
   "metadata": {
    "collapsed": false
   },
   "outputs": [],
   "source": [
    "def run_classifier(classifier_id):    \n",
    "    classifiers = (None, RandomForestClassifier, SVC, LogisticRegression, DecisionTreeClassifier)\n",
    "\n",
    "    # TODO: after encoding, we have 63 features. What is the range of max_depth without overfitting?\n",
    "    grid_RF = [{'max_depth': [10, 15], 'criterion': ['entropy', 'gini'], 'n_estimators': [50, 100, 250], 'class_weight': ['balanced']}]\n",
    "    \n",
    "    # TODO: do we need to include linear kernel?\n",
    "    grid_SVC = [{'kernel': ['rbf'], 'C': [0.1, 1.0, 100.0], 'gamma': [0.001, 0.1, 10.0], 'class_weight': ['balanced'], 'probability': [True]}]\n",
    "    \n",
    "    # TODO: scale every predictor variable with maximum absolute value first, then train the model\n",
    "    grid_LR = [{'C': [0.001, 0.01, 0.1, 1, 10, 100, 1000], 'class_weight': ['balanced']}]\n",
    "\n",
    "    # TODO: after encoding, we have 63 features. What is the range of max_depth without overfitting?\n",
    "    grid_DT = [{'criterion': ['entropy', 'gini'], 'max_depth': [10, 15]}]\n",
    "\n",
    "    grids = (None, grid_RF, grid_SVC, grid_LR, grid_DT)\n",
    "    grid_obj = grids[classifier_id]\n",
    "    cls_obj = classifiers[classifier_id]\n",
    "\n",
    "    best_param = None\n",
    "    best_score = None\n",
    "    best_model = None\n",
    "    print (\"Performing cross validation using parameter grid...\")\n",
    "    for one_param in ParameterGrid(grid_obj):\n",
    "        cls = cls_obj(**one_param)\n",
    "\n",
    "        one_score = cross_val_score(cls, X_train, Y_train, cv=5, scoring='roc_auc')\n",
    "        mscore = one_score.mean()\n",
    "\n",
    "#         print (\"param=%s, score=%.6f\" % (repr(one_param),mscore))\n",
    "\n",
    "        if ( best_score is None or best_score < mscore): \n",
    "            best_param = one_param\n",
    "            best_score = mscore\n",
    "            best_model = cls\n",
    "    \n",
    "    print (\"Best score for Cross Validation: %.6f\" % best_score)\n",
    "    print(\"Best param: %s\" % repr(best_param))\n",
    "\n",
    "    ### ROC\n",
    "    classifier_name_list = (None, \"Random Forest\", \"SVM\", \"Logistic Regression\", \"Decision Trees\")\n",
    "    best_model.fit(X_train, Y_train)\n",
    "    \n",
    "    # len(best_model.feature_importances_) = 63 (there are 63 features after encoding)\n",
    "#     print(\"best_model.feature_importances_: %s\" % repr(best_model.feature_importances_))\n",
    "    \n",
    "    # TODO: Which approach should we use? by min. distance or by cost?\n",
    "    best_params = get_best_model_params(best_model, X_train, Y_train, classifier_name_list[classifier_id])\n",
    "    print(\"(best_fpr, best_tpr, best_threshold, best_fpr_by_cost, best_tpr_by_cost, best_threshold_by_cost) = \")\n",
    "    print(best_params)\n",
    "    \n",
    "    predict_test(best_model, X_test, Y_test, classifier_name_list[classifier_id], best_params)\n",
    "\n",
    "    \n",
    "def predict_test(best_model, x_data, y_data, classifier_name, best_params):\n",
    "    probas_ = best_model.predict_proba(x_data) # len(probas_) = size of testing set\n",
    "#     print(\"probas_ = \")\n",
    "#     print(probas_)    \n",
    "    \n",
    "    # Compute ROC curve and area the curve\n",
    "    fpr, tpr, thresholds = roc_curve(y_data, probas_[:, 1]) # pick prob. of yes(encoded as 1)(corresponds to index 1)\n",
    "#     print(\"=============\")\n",
    "#     print(\"length of fpr = \" + str(len(fpr))) # 237\n",
    "#     print(fpr)\n",
    "#     print(\"length of tpr = \" + str(len(tpr))) # 237\n",
    "#     print(tpr)\n",
    "#     print(\"length of thresholds = \" + str(len(thresholds))) # 237\n",
    "#     print(thresholds)\n",
    "#     print(\"=============\")    \n",
    "    roc_auc = auc(fpr, tpr)\n",
    "    print(\"Area under the ROC curve : %f\" % roc_auc)    \n",
    "    plot_roc_curve(fpr, tpr, roc_auc, classifier_name)    \n",
    "    \n",
    "    # assess the model based on best_threshold\n",
    "    best_threshold = best_params[2]    \n",
    "    tp_plus_fn = 0 # actual yes\n",
    "    tn_plus_fp = 0 # actual no\n",
    "    tp = 0\n",
    "    fp = 0\n",
    "    for item in zip(y_data, probas_[:, 1]):\n",
    "        if item[0] == 1.0:\n",
    "            tp_plus_fn += 1\n",
    "        else:\n",
    "            tn_plus_fp += 1\n",
    "        \n",
    "        if item[1] >= best_threshold:\n",
    "            # predict as positive            \n",
    "            if item[0] == 1.0:\n",
    "                tp += 1\n",
    "            else:\n",
    "                fp += 1\n",
    "    test_fpr = fp / tn_plus_fp\n",
    "    test_tpr = tp / tp_plus_fn\n",
    "    print(\"(test_fpr, test_tpr) = \")\n",
    "    print((test_fpr, test_tpr))\n",
    "    cost = fp * INPUT_COST - tp * (INPUT_PRICE - INPUT_COST)\n",
    "    print(\"fp = %s\" % str(fp))\n",
    "    print(\"tp = %s\" % str(tp))    \n",
    "    print(\"Using this best model to do predictions on test set, the profit of the bank is %s USD.\\n\" % str(-1 * cost))\n",
    "    \n",
    "    \n",
    "    # assess the model based on best_threshold_by_cost (approach is the same as above)\n",
    "    best_threshold_by_cost = best_params[5]    \n",
    "    tp_plus_fn = 0 # actual yes\n",
    "    tn_plus_fp = 0 # actual no\n",
    "    tp = 0\n",
    "    fp = 0\n",
    "    for item in zip(y_data, probas_[:, 1]):\n",
    "        if item[0] == 1.0:\n",
    "            tp_plus_fn += 1\n",
    "        else:\n",
    "            tn_plus_fp += 1\n",
    "        \n",
    "        if item[1] >= best_threshold_by_cost:\n",
    "            # predict as positive            \n",
    "            if item[0] == 1.0:\n",
    "                tp += 1\n",
    "            else:\n",
    "                fp += 1\n",
    "    test_fpr_by_cost = fp / tn_plus_fp\n",
    "    test_tpr_by_cost = tp / tp_plus_fn\n",
    "    print(\"(test_fpr_by_cost, test_tpr_by_cost) = \")\n",
    "    print((test_fpr_by_cost, test_tpr_by_cost))\n",
    "    cost = fp * INPUT_COST - tp * (INPUT_PRICE - INPUT_COST)\n",
    "    print(\"fp = %s\" % str(fp))\n",
    "    print(\"tp = %s\" % str(tp))\n",
    "    print(\"Using this best model to do predictions on test set, the profit of the bank is %s USD.\\n\" % str(-1 * cost))\n",
    "    \n",
    "    \n",
    "def get_best_model_params(best_model, x_data, y_data, classifier_name):\n",
    "    probas_ = best_model.predict_proba(x_data) # len(probas_) = size of training set\n",
    "    \n",
    "    # Compute ROC curve and area the curve\n",
    "    fpr, tpr, thresholds = roc_curve(y_data, probas_[:, 1]) # pick prob. of yes(encoded as 1)(corresponds to index 1)\n",
    "    \n",
    "    roc_auc = auc(fpr, tpr)\n",
    "    print(\"Area under the ROC curve : %f\" % roc_auc)    \n",
    "    plot_roc_curve(fpr, tpr, roc_auc, classifier_name)\n",
    "\n",
    "    \n",
    "    # find best params\n",
    "    best_fpr = None\n",
    "    best_tpr = None\n",
    "    best_threshold = None\n",
    "    min_distance = sys.maxsize\n",
    "    for item in zip(fpr, tpr, thresholds):\n",
    "        distance = math.sqrt(math.pow(item[0], 2) + math.pow(item[1] - 1, 2))\n",
    "        if min_distance > distance:\n",
    "            min_distance = distance\n",
    "            best_fpr = item[0]\n",
    "            best_tpr = item[1]\n",
    "            best_threshold = item[2]\n",
    "    \n",
    "    \n",
    "    # find best params by cost\n",
    "    tp_plus_fn = 0 # actual yes\n",
    "    tn_plus_fp = 0 # actual no    \n",
    "    for item in y_data:\n",
    "        if item == 1.0:\n",
    "            tp_plus_fn += 1\n",
    "        else:\n",
    "            tn_plus_fp += 1\n",
    "    \n",
    "    best_fpr_by_cost = None\n",
    "    best_tpr_by_cost = None\n",
    "    best_threshold_by_cost = None\n",
    "    min_cost = sys.maxsize\n",
    "    for item in zip(fpr, tpr, thresholds):\n",
    "        cost = tn_plus_fp * item[0] * INPUT_COST - tp_plus_fn * item[1] * (INPUT_PRICE - INPUT_COST)\n",
    "        if min_cost > cost:\n",
    "            min_cost = cost\n",
    "            best_fpr_by_cost = item[0]\n",
    "            best_tpr_by_cost = item[1]\n",
    "            best_threshold_by_cost = item[2]\n",
    "    \n",
    "    \n",
    "    return (best_fpr, best_tpr, best_threshold, best_fpr_by_cost, best_tpr_by_cost, best_threshold_by_cost)\n",
    "    \n",
    "\n",
    "def plot_roc_curve(fpr, tpr, roc_auc, classifier_name):\n",
    "    pl.clf()\n",
    "    pl.plot(fpr, tpr, label='ROC curve (area = %0.2f)' % roc_auc)\n",
    "    pl.plot([0, 1], [0, 1], 'k--')\n",
    "    pl.xlim([0.0, 1.0])\n",
    "    pl.ylim([0.0, 1.0])\n",
    "    pl.xlabel('False Positive Rate')\n",
    "    pl.ylabel('True Positive Rate')\n",
    "    pl.title('Receiver operating characteristic- %s' % classifier_name)\n",
    "    pl.legend(loc=\"lower right\")\n",
    "    pl.show()    "
   ]
  },
  {
   "cell_type": "code",
   "execution_count": 100,
   "metadata": {
    "collapsed": false
   },
   "outputs": [
    {
     "name": "stdout",
     "output_type": "stream",
     "text": [
      "Performing cross validation using parameter grid...\n",
      "Best score for Cross Validation: 0.939455\n",
      "Best param: {'criterion': 'entropy', 'max_depth': 15, 'n_estimators': 250, 'class_weight': 'balanced'}\n",
      "best_model.feature_importances_: array([  5.31300080e-03,   6.41326770e-03,   2.18108189e-03,\n",
      "         1.94603953e-03,   3.27805604e-03,   3.92023017e-03,\n",
      "         2.45847641e-03,   3.92293236e-03,   2.75736060e-03,\n",
      "         4.89099320e-03,   2.39614996e-03,   1.04193353e-03,\n",
      "         4.24369884e-03,   6.10941844e-03,   6.11317030e-03,\n",
      "         2.50125924e-04,   4.16878281e-03,   2.51686344e-03,\n",
      "         4.65809753e-03,   5.77632957e-03,   3.61148839e-05,\n",
      "         4.40808865e-03,   6.33472492e-03,   2.65164268e-03,\n",
      "         6.07245385e-03,   6.12684347e-03,   1.34806572e-07,\n",
      "         6.54184716e-03,   1.47705678e-03,   6.68882059e-03,\n",
      "         5.31983522e-03,   1.62184665e-03,   5.10602953e-03,\n",
      "         9.92199201e-03,   9.58506421e-03,   4.73551421e-03,\n",
      "         2.35230686e-03,   5.54342580e-04,   2.29882732e-03,\n",
      "         3.23533202e-03,   5.09006658e-03,   1.11484284e-02,\n",
      "         2.16318985e-03,   7.05959318e-03,   1.87248000e-03,\n",
      "         6.40724251e-03,   6.41478080e-03,   5.99018918e-03,\n",
      "         5.51833619e-03,   5.26784298e-03,   4.52052987e-03,\n",
      "         9.40334991e-03,   1.54840861e-02,   4.06951969e-02,\n",
      "         3.69000850e-01,   2.18766631e-02,   2.72884755e-02,\n",
      "         9.93489311e-03,   5.54842047e-02,   3.31873497e-02,\n",
      "         3.89470620e-02,   9.06657332e-02,   6.71546291e-02])\n",
      "Area under the ROC curve : 0.994173\n"
     ]
    },
    {
     "data": {
      "image/png": "[encoded data removed]",
      "text/plain": [
       "<matplotlib.figure.Figure at 0x10e7456a0>"
      ]
     },
     "metadata": {},
     "output_type": "display_data"
    }
   ],
   "source": [
    "run_classifier(1)"
   ]
  },
  {
   "cell_type": "code",
   "execution_count": 95,
   "metadata": {
    "collapsed": false
   },
   "outputs": [
    {
     "name": "stdout",
     "output_type": "stream",
     "text": [
      "Performing cross validation using parameter grid...\n",
      "Best score for Cross Validation: 0.939371\n",
      "Best param: {'criterion': 'entropy', 'n_estimators': 250, 'class_weight': 'balanced'}\n",
      "best_model.feature_importances_: array([  9.60986879e-03,   8.24739782e-03,   3.16471700e-03,\n",
      "         2.56264515e-03,   5.19937389e-03,   4.45532717e-03,\n",
      "         3.51973784e-03,   5.60537811e-03,   3.13513520e-03,\n",
      "         7.83393627e-03,   2.96496111e-03,   1.24704057e-03,\n",
      "         6.13768477e-03,   9.59762653e-03,   9.02605931e-03,\n",
      "         2.51402511e-04,   5.61912899e-03,   3.68550344e-03,\n",
      "         6.75744313e-03,   9.21972779e-03,   2.41447155e-05,\n",
      "         6.66991557e-03,   9.70899451e-03,   3.56405061e-03,\n",
      "         6.74954462e-03,   6.05372017e-03,   1.13693243e-07,\n",
      "         1.05051273e-02,   1.49450756e-03,   1.04422210e-02,\n",
      "         7.29320475e-03,   1.48358478e-03,   7.24213231e-03,\n",
      "         9.14740594e-03,   9.00732248e-03,   3.31492084e-03,\n",
      "         2.31481614e-03,   4.52716875e-04,   2.37043480e-03,\n",
      "         2.72904267e-03,   3.50431702e-03,   9.92001622e-03,\n",
      "         2.33617619e-03,   5.23558861e-03,   1.68448326e-03,\n",
      "         8.80680361e-03,   9.57371599e-03,   8.82467203e-03,\n",
      "         8.18679598e-03,   8.52944139e-03,   4.62962048e-03,\n",
      "         6.68137686e-03,   1.07725049e-02,   6.04681998e-02,\n",
      "         3.39897917e-01,   3.40704250e-02,   1.92128118e-02,\n",
      "         1.06501842e-02,   4.90307953e-02,   2.45652462e-02,\n",
      "         2.85293378e-02,   8.53954691e-02,   5.10860842e-02])\n",
      "Area under the ROC curve : 1.000000\n"
     ]
    },
    {
     "data": {
      "image/png": "[encoded data removed]",
      "text/plain": [
       "<matplotlib.figure.Figure at 0x117daccf8>"
      ]
     },
     "metadata": {},
     "output_type": "display_data"
    }
   ],
   "source": [
    "run_classifier(1)"
   ]
  },
  {
   "cell_type": "code",
   "execution_count": 70,
   "metadata": {
    "collapsed": false
   },
   "outputs": [
    {
     "name": "stdout",
     "output_type": "stream",
     "text": [
      "Performing cross validation using parameter grid...\n",
      "param={'C': 0.1, 'gamma': 0.001, 'class_weight': 'balanced', 'kernel': 'rbf'}, score=0.908003\n",
      "param={'C': 0.1, 'gamma': 0.1, 'class_weight': 'balanced', 'kernel': 'rbf'}, score=0.872253\n",
      "param={'C': 0.1, 'gamma': 10.0, 'class_weight': 'balanced', 'kernel': 'rbf'}, score=0.500502\n",
      "param={'C': 1.0, 'gamma': 0.001, 'class_weight': 'balanced', 'kernel': 'rbf'}, score=0.911861\n",
      "param={'C': 1.0, 'gamma': 0.1, 'class_weight': 'balanced', 'kernel': 'rbf'}, score=0.871831\n",
      "param={'C': 1.0, 'gamma': 10.0, 'class_weight': 'balanced', 'kernel': 'rbf'}, score=0.500502\n",
      "param={'C': 100.0, 'gamma': 0.001, 'class_weight': 'balanced', 'kernel': 'rbf'}, score=0.874606\n",
      "param={'C': 100.0, 'gamma': 0.1, 'class_weight': 'balanced', 'kernel': 'rbf'}, score=0.872437\n",
      "param={'C': 100.0, 'gamma': 10.0, 'class_weight': 'balanced', 'kernel': 'rbf'}, score=0.500502\n",
      "Best score for Cross Validation: 0.911861\n"
     ]
    },
    {
     "ename": "AttributeError",
     "evalue": "predict_proba is not available when  probability=False",
     "output_type": "error",
     "traceback": [
      "\u001b[0;31m---------------------------------------------------------------------------\u001b[0m",
      "\u001b[0;31mAttributeError\u001b[0m                            Traceback (most recent call last)",
      "\u001b[0;32m<ipython-input-70-ff780bf526a8>\u001b[0m in \u001b[0;36m<module>\u001b[0;34m()\u001b[0m\n\u001b[1;32m      1\u001b[0m \u001b[0;31m# TODO BUG: cannot run SVM\u001b[0m\u001b[0;34m\u001b[0m\u001b[0;34m\u001b[0m\u001b[0m\n\u001b[0;32m----> 2\u001b[0;31m \u001b[0mrun_classifier\u001b[0m\u001b[0;34m(\u001b[0m\u001b[0;36m2\u001b[0m\u001b[0;34m)\u001b[0m\u001b[0;34m\u001b[0m\u001b[0m\n\u001b[0m",
      "\u001b[0;32m<ipython-input-69-6097da192471>\u001b[0m in \u001b[0;36mrun_classifier\u001b[0;34m(classifier_id)\u001b[0m\n\u001b[1;32m     33\u001b[0m     \u001b[0;31m### ROC\u001b[0m\u001b[0;34m\u001b[0m\u001b[0;34m\u001b[0m\u001b[0m\n\u001b[1;32m     34\u001b[0m     \u001b[0mroc_name\u001b[0m \u001b[0;34m=\u001b[0m \u001b[0;34m(\u001b[0m\u001b[0;32mNone\u001b[0m\u001b[0;34m,\u001b[0m \u001b[0;34m\"Random Forest\"\u001b[0m\u001b[0;34m,\u001b[0m \u001b[0;34m\"SVM\"\u001b[0m\u001b[0;34m,\u001b[0m \u001b[0;34m\"Logistic Regression\"\u001b[0m\u001b[0;34m,\u001b[0m \u001b[0;34m\"Decision Trees\"\u001b[0m\u001b[0;34m)\u001b[0m\u001b[0;34m\u001b[0m\u001b[0m\n\u001b[0;32m---> 35\u001b[0;31m     \u001b[0mprobas_\u001b[0m \u001b[0;34m=\u001b[0m \u001b[0mbest_model\u001b[0m\u001b[0;34m.\u001b[0m\u001b[0mfit\u001b[0m\u001b[0;34m(\u001b[0m\u001b[0mX_train\u001b[0m\u001b[0;34m,\u001b[0m \u001b[0mY_train\u001b[0m\u001b[0;34m)\u001b[0m\u001b[0;34m.\u001b[0m\u001b[0mpredict_proba\u001b[0m\u001b[0;34m(\u001b[0m\u001b[0mX_test\u001b[0m\u001b[0;34m)\u001b[0m \u001b[0;31m# len(probas_) = size of testing set\u001b[0m\u001b[0;34m\u001b[0m\u001b[0m\n\u001b[0m\u001b[1;32m     36\u001b[0m \u001b[0;31m#     print(\"probas_ = \")\u001b[0m\u001b[0;34m\u001b[0m\u001b[0;34m\u001b[0m\u001b[0m\n\u001b[1;32m     37\u001b[0m \u001b[0;31m#     print(probas_)\u001b[0m\u001b[0;34m\u001b[0m\u001b[0;34m\u001b[0m\u001b[0m\n",
      "\u001b[0;32m/Users/de-weikung/anaconda/lib/python3.5/site-packages/sklearn/svm/base.py\u001b[0m in \u001b[0;36mpredict_proba\u001b[0;34m(self)\u001b[0m\n\u001b[1;32m    608\u001b[0m         \u001b[0mdatasets\u001b[0m\u001b[0;34m.\u001b[0m\u001b[0;34m\u001b[0m\u001b[0m\n\u001b[1;32m    609\u001b[0m         \"\"\"\n\u001b[0;32m--> 610\u001b[0;31m         \u001b[0mself\u001b[0m\u001b[0;34m.\u001b[0m\u001b[0m_check_proba\u001b[0m\u001b[0;34m(\u001b[0m\u001b[0;34m)\u001b[0m\u001b[0;34m\u001b[0m\u001b[0m\n\u001b[0m\u001b[1;32m    611\u001b[0m         \u001b[0;32mreturn\u001b[0m \u001b[0mself\u001b[0m\u001b[0;34m.\u001b[0m\u001b[0m_predict_proba\u001b[0m\u001b[0;34m\u001b[0m\u001b[0m\n\u001b[1;32m    612\u001b[0m \u001b[0;34m\u001b[0m\u001b[0m\n",
      "\u001b[0;32m/Users/de-weikung/anaconda/lib/python3.5/site-packages/sklearn/svm/base.py\u001b[0m in \u001b[0;36m_check_proba\u001b[0;34m(self)\u001b[0m\n\u001b[1;32m    575\u001b[0m     \u001b[0;32mdef\u001b[0m \u001b[0m_check_proba\u001b[0m\u001b[0;34m(\u001b[0m\u001b[0mself\u001b[0m\u001b[0;34m)\u001b[0m\u001b[0;34m:\u001b[0m\u001b[0;34m\u001b[0m\u001b[0m\n\u001b[1;32m    576\u001b[0m         \u001b[0;32mif\u001b[0m \u001b[0;32mnot\u001b[0m \u001b[0mself\u001b[0m\u001b[0;34m.\u001b[0m\u001b[0mprobability\u001b[0m\u001b[0;34m:\u001b[0m\u001b[0;34m\u001b[0m\u001b[0m\n\u001b[0;32m--> 577\u001b[0;31m             raise AttributeError(\"predict_proba is not available when \"\n\u001b[0m\u001b[1;32m    578\u001b[0m                                  \" probability=False\")\n\u001b[1;32m    579\u001b[0m         \u001b[0;32mif\u001b[0m \u001b[0mself\u001b[0m\u001b[0;34m.\u001b[0m\u001b[0m_impl\u001b[0m \u001b[0;32mnot\u001b[0m \u001b[0;32min\u001b[0m \u001b[0;34m(\u001b[0m\u001b[0;34m'c_svc'\u001b[0m\u001b[0;34m,\u001b[0m \u001b[0;34m'nu_svc'\u001b[0m\u001b[0;34m)\u001b[0m\u001b[0;34m:\u001b[0m\u001b[0;34m\u001b[0m\u001b[0m\n",
      "\u001b[0;31mAttributeError\u001b[0m: predict_proba is not available when  probability=False"
     ]
    }
   ],
   "source": [
    "# TODO BUG: cannot run SVM\n",
    "run_classifier(2)"
   ]
  },
  {
   "cell_type": "code",
   "execution_count": 165,
   "metadata": {
    "collapsed": false
   },
   "outputs": [
    {
     "name": "stdout",
     "output_type": "stream",
     "text": [
      "Performing cross validation using parameter grid...\n",
      "Best score for Cross Validation: 0.869357\n",
      "Best param: {'criterion': 'entropy', 'max_depth': 10}\n",
      "best_model.feature_importances_: array([ 0.0019443 ,  0.001555  ,  0.00049031,  0.00119981,  0.00187359,\n",
      "        0.00052068,  0.00096822,  0.00116168,  0.00087513,  0.00344075,\n",
      "        0.00185128,  0.00123034,  0.00160758,  0.0021653 ,  0.00289356,\n",
      "        0.00054397,  0.001173  ,  0.00191141,  0.00080097,  0.0026101 ,\n",
      "        0.        ,  0.00434936,  0.00441339,  0.00083071,  0.00198658,\n",
      "        0.        ,  0.        ,  0.00096139,  0.        ,  0.0020434 ,\n",
      "        0.00293008,  0.00079811,  0.00138181,  0.00196793,  0.00077313,\n",
      "        0.        ,  0.00049621,  0.00082084,  0.00060024,  0.00077955,\n",
      "        0.0005243 ,  0.00225903,  0.00137075,  0.01606336,  0.00111626,\n",
      "        0.00390725,  0.00094978,  0.00310753,  0.00271191,  0.00146711,\n",
      "        0.00223632,  0.00050648,  0.00083323,  0.03338435,  0.43700772,\n",
      "        0.01116406,  0.02869997,  0.00459318,  0.        ,  0.00842739,\n",
      "        0.06929093,  0.06963291,  0.24479647])\n",
      "Area under the ROC curve : 0.970913\n"
     ]
    },
    {
     "data": {
      "image/png": "[encoded data removed]",
      "text/plain": [
       "<matplotlib.figure.Figure at 0x10e1eeeb8>"
      ]
     },
     "metadata": {},
     "output_type": "display_data"
    },
    {
     "name": "stdout",
     "output_type": "stream",
     "text": [
      "(best_fpr, best_tpr, best_threshold, best_fpr_by_cost, best_tpr_by_cost, best_threshold_by_cost) = \n",
      "(0.10131092129904536, 0.93614757006030502, 0.16981132075471697, 0.046270497419266435, 0.77616175948918054, 0.40099009900990101)\n",
      "Area under the ROC curve : 0.891206\n"
     ]
    },
    {
     "data": {
      "image/png": "[encoded data removed]",
      "text/plain": [
       "<matplotlib.figure.Figure at 0x10f6d4748>"
      ]
     },
     "metadata": {},
     "output_type": "display_data"
    },
    {
     "name": "stdout",
     "output_type": "stream",
     "text": [
      "(test_fpr, test_tpr) = \n",
      "(0.11211190719890822, 0.8204283360790774)\n",
      "fp = 1643\n",
      "tp = 1494\n",
      "Using this best model to do predictions on test set, the profit of the bank is 5980 USD.\n",
      "\n",
      "(test_fpr_by_cost, test_tpr_by_cost) = \n",
      "(0.06264073694984647, 0.6617243272926964)\n",
      "fp = 918\n",
      "tp = 1205\n",
      "Using this best model to do predictions on test set, the profit of the bank is 8895 USD.\n",
      "\n"
     ]
    }
   ],
   "source": [
    "run_classifier(4)"
   ]
  },
  {
   "cell_type": "code",
   "execution_count": 66,
   "metadata": {
    "collapsed": false
   },
   "outputs": [
    {
     "name": "stdout",
     "output_type": "stream",
     "text": [
      "Performing cross validation using parameter grid...\n",
      "param={'C': 1, 'class_weight': 'balanced'}, score=0.935803\n",
      "Best score for Cross Validation: 0.935803\n",
      "Area under the ROC curve : 0.938461\n"
     ]
    },
    {
     "data": {
      "image/png": "[encoded data removed]",
      "text/plain": [
       "<matplotlib.figure.Figure at 0x10e80cd68>"
      ]
     },
     "metadata": {},
     "output_type": "display_data"
    }
   ],
   "source": [
    "run_classifier(3) # balanced class weight"
   ]
  },
  {
   "cell_type": "code",
   "execution_count": 68,
   "metadata": {
    "collapsed": false
   },
   "outputs": [
    {
     "name": "stdout",
     "output_type": "stream",
     "text": [
      "Performing cross validation using parameter grid...\n",
      "param={'C': 1}, score=0.929493\n",
      "Best score for Cross Validation: 0.929493\n",
      "Area under the ROC curve : 0.931977\n"
     ]
    },
    {
     "data": {
      "image/png": "[encoded data removed]",
      "text/plain": [
       "<matplotlib.figure.Figure at 0x10e8ed080>"
      ]
     },
     "metadata": {},
     "output_type": "display_data"
    }
   ],
   "source": [
    "run_classifier(3) # all classes have weight one."
   ]
  },
  {
   "cell_type": "code",
   "execution_count": null,
   "metadata": {
    "collapsed": false
   },
   "outputs": [],
   "source": []
  },
  {
   "cell_type": "code",
   "execution_count": null,
   "metadata": {
    "collapsed": false
   },
   "outputs": [],
   "source": []
  },
  {
   "cell_type": "code",
   "execution_count": null,
   "metadata": {
    "collapsed": false
   },
   "outputs": [],
   "source": []
  },
  {
   "cell_type": "code",
   "execution_count": 49,
   "metadata": {
    "collapsed": false
   },
   "outputs": [
    {
     "name": "stdout",
     "output_type": "stream",
     "text": [
      "[ 0.  0.  0. ...,  0.  1.  0.]\n"
     ]
    }
   ],
   "source": [
    "print(target)"
   ]
  },
  {
   "cell_type": "code",
   "execution_count": 50,
   "metadata": {
    "collapsed": false
   },
   "outputs": [
    {
     "name": "stdout",
     "output_type": "stream",
     "text": [
      "[ 1.  0.  0. ...,  0.  0.  0.]\n"
     ]
    }
   ],
   "source": [
    "print(Y_test)"
   ]
  },
  {
   "cell_type": "code",
   "execution_count": 85,
   "metadata": {
    "collapsed": false
   },
   "outputs": [
    {
     "name": "stdout",
     "output_type": "stream",
     "text": [
      "[  1.   2.   3.   4.   5.   6.   7.   8.   9.  10.]\n"
     ]
    }
   ],
   "source": [
    "x = np.linspace(1, 10, 10)\n",
    "print(x)"
   ]
  },
  {
   "cell_type": "code",
   "execution_count": 121,
   "metadata": {
    "collapsed": false
   },
   "outputs": [
    {
     "name": "stdout",
     "output_type": "stream",
     "text": [
      "(1, 8, -1)\n",
      "(2, 0, -1)\n",
      "(3, 4, -2)\n"
     ]
    }
   ],
   "source": [
    "x = [1, 2, 3]\n",
    "y = [8, 0, 4]\n",
    "z = [-1, -1, -2]\n",
    "# print(zip(x, y))\n",
    "for item in zip(x, y, z):\n",
    "    print(item)"
   ]
  }
 ],
 "metadata": {
  "kernelspec": {
   "display_name": "Python 3",
   "language": "python",
   "name": "python3"
  },
  "language_info": {
   "codemirror_mode": {
    "name": "ipython",
    "version": 3
   },
   "file_extension": ".py",
   "mimetype": "text/x-python",
   "name": "python",
   "nbconvert_exporter": "python",
   "pygments_lexer": "ipython3",
   "version": "3.5.1"
  }
 },
 "nbformat": 4,
 "nbformat_minor": 0
}
