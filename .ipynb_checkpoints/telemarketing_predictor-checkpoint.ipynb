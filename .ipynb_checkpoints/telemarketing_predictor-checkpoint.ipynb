{
 "cells": [
  {
   "cell_type": "code",
   "execution_count": 34,
   "metadata": {
    "collapsed": true
   },
   "outputs": [],
   "source": [
    "import pandas as pd\n",
    "from sklearn import preprocessing\n",
    "import argparse\n",
    "import numpy as np\n",
    "import scipy\n",
    "import csv\n",
    "from sklearn.ensemble import RandomForestClassifier\n",
    "from sklearn.cross_validation import cross_val_score\n",
    "from time import time\n",
    "import matplotlib.pyplot as plt\n",
    "from sklearn.tree import DecisionTreeClassifier\n",
    "from sklearn.linear_model import LogisticRegression\n",
    "from sklearn.cross_validation import train_test_split\n",
    "from sklearn.neural_network import BernoulliRBM\n",
    "from sklearn.pipeline import Pipeline\n",
    "from sklearn.metrics import roc_curve, auc, roc_auc_score\n",
    "from sklearn.utils import shuffle\n",
    "from sklearn.svm import SVC\n",
    "from sklearn.grid_search import ParameterGrid\n",
    "import pylab as pl\n",
    "from sklearn.metrics import mean_squared_error, accuracy_score\n",
    "from sklearn.grid_search import GridSearchCV\n",
    "from sklearn.grid_search import ParameterGrid\n",
    "from scipy import interp\n",
    "from sklearn.cross_validation import StratifiedKFold\n",
    "%matplotlib inline"
   ]
  },
  {
   "cell_type": "code",
   "execution_count": 35,
   "metadata": {
    "collapsed": true
   },
   "outputs": [],
   "source": [
    "data = pd.read_csv('bank-additional-full.csv', delimiter=';')\n",
    "\n",
    "# Label Encoding\n",
    "lab = preprocessing.LabelEncoder()\n",
    "data.job = lab.fit_transform(data.job)\n",
    "data.marital = lab.fit_transform(data.marital)\n",
    "data.education = lab.fit_transform(data.education)\n",
    "data.default = lab.fit_transform(data.default)\n",
    "data.housing = lab.fit_transform(data.housing)\n",
    "data.loan = lab.fit_transform(data.loan)\n",
    "data.contact = lab.fit_transform(data.contact)\n",
    "data.month = lab.fit_transform(data.month)\n",
    "data['day_of_week'] = lab.fit_transform(data['day_of_week'])\n",
    "data.poutcome = lab.fit_transform(data.poutcome)\n",
    "data.y = lab.fit_transform(data.y)"
   ]
  },
  {
   "cell_type": "code",
   "execution_count": 36,
   "metadata": {
    "collapsed": true
   },
   "outputs": [],
   "source": [
    "features = data.as_matrix() # features shape: (41188, 21)\n",
    "target = features[:, 20]\n",
    "features_numeric = features[:, 0:20] # shape: (41188, 20) (index 20 won't be included)"
   ]
  },
  {
   "cell_type": "code",
   "execution_count": 37,
   "metadata": {
    "collapsed": false
   },
   "outputs": [
    {
     "name": "stdout",
     "output_type": "stream",
     "text": [
      "[  5.60000000e+01   3.00000000e+00   1.00000000e+00   0.00000000e+00\n",
      "   0.00000000e+00   0.00000000e+00   0.00000000e+00   1.00000000e+00\n",
      "   6.00000000e+00   1.00000000e+00   2.61000000e+02   1.00000000e+00\n",
      "   9.99000000e+02   0.00000000e+00   1.00000000e+00   1.10000000e+00\n",
      "   9.39940000e+01  -3.64000000e+01   4.85700000e+00   5.19100000e+03]\n",
      "[12  4  8  3  3  3  2 10  5  3]\n",
      "[ 0 12 16 24 27 30 33 35 45 50 53]\n",
      "63\n",
      "[  0.00000000e+00   0.00000000e+00   0.00000000e+00   1.00000000e+00\n",
      "   0.00000000e+00   0.00000000e+00   0.00000000e+00   0.00000000e+00\n",
      "   0.00000000e+00   0.00000000e+00   0.00000000e+00   0.00000000e+00\n",
      "   0.00000000e+00   1.00000000e+00   0.00000000e+00   0.00000000e+00\n",
      "   1.00000000e+00   0.00000000e+00   0.00000000e+00   0.00000000e+00\n",
      "   0.00000000e+00   0.00000000e+00   0.00000000e+00   0.00000000e+00\n",
      "   1.00000000e+00   0.00000000e+00   0.00000000e+00   1.00000000e+00\n",
      "   0.00000000e+00   0.00000000e+00   1.00000000e+00   0.00000000e+00\n",
      "   0.00000000e+00   0.00000000e+00   1.00000000e+00   0.00000000e+00\n",
      "   0.00000000e+00   0.00000000e+00   0.00000000e+00   0.00000000e+00\n",
      "   0.00000000e+00   1.00000000e+00   0.00000000e+00   0.00000000e+00\n",
      "   0.00000000e+00   0.00000000e+00   1.00000000e+00   0.00000000e+00\n",
      "   0.00000000e+00   0.00000000e+00   0.00000000e+00   1.00000000e+00\n",
      "   0.00000000e+00   5.60000000e+01   2.61000000e+02   1.00000000e+00\n",
      "   9.99000000e+02   0.00000000e+00   1.10000000e+00   9.39940000e+01\n",
      "  -3.64000000e+01   4.85700000e+00   5.19100000e+03]\n"
     ]
    }
   ],
   "source": [
    "print(features_numeric[0])\n",
    "# [  5.60000000e+01   3.00000000e+00   1.00000000e+00   0.00000000e+00\n",
    "#    0.00000000e+00   0.00000000e+00   0.00000000e+00   1.00000000e+00\n",
    "#    6.00000000e+00   1.00000000e+00   2.61000000e+02   1.00000000e+00\n",
    "#    9.99000000e+02   0.00000000e+00   1.00000000e+00   1.10000000e+00\n",
    "#    9.39940000e+01  -3.64000000e+01   4.85700000e+00   5.19100000e+03]\n",
    "\n",
    "# One-k-scheme encoding\n",
    "from sklearn.preprocessing import OneHotEncoder\n",
    "cat_indices = np.array([[1,2,3,4,5,6,7,8,9,14]]) # [[ 1  2  3  4  5  6  7  8  9 14]]\n",
    "\n",
    "enc = OneHotEncoder(categorical_features = cat_indices)\n",
    "encoded_features1 = enc.fit_transform(features_numeric)\n",
    "print(enc.n_values_)\n",
    "# [12  4  8  3  3  3  2 10  5  3]\n",
    "\n",
    "print(enc.feature_indices_)\n",
    "# [ 0 12 16 24 27 30 33 35 45 50 53]\n",
    "\n",
    "print(len(encoded_features1.toarray()[0]))\n",
    "# 63\n",
    "\n",
    "print(encoded_features1.toarray()[0]) # print the first row of data (it has rearranged category features in front of all continuous features)\n",
    "# [  0.00000000e+00   0.00000000e+00   0.00000000e+00   1.00000000e+00(housemaid, which is encoded as 3)\n",
    "#    0.00000000e+00   0.00000000e+00   0.00000000e+00   0.00000000e+00\n",
    "#    0.00000000e+00   0.00000000e+00   0.00000000e+00   0.00000000e+00\n",
    "#    0.00000000e+00   1.00000000e+00   0.00000000e+00   0.00000000e+00\n",
    "#    1.00000000e+00   0.00000000e+00   0.00000000e+00   0.00000000e+00\n",
    "#    0.00000000e+00   0.00000000e+00   0.00000000e+00   0.00000000e+00\n",
    "#    1.00000000e+00   0.00000000e+00   0.00000000e+00   1.00000000e+00\n",
    "#    0.00000000e+00   0.00000000e+00   1.00000000e+00   0.00000000e+00\n",
    "#    0.00000000e+00   0.00000000e+00   1.00000000e+00   0.00000000e+00\n",
    "#    0.00000000e+00   0.00000000e+00   0.00000000e+00   0.00000000e+00\n",
    "#    0.00000000e+00   1.00000000e+00   0.00000000e+00   0.00000000e+00\n",
    "#    0.00000000e+00   0.00000000e+00   1.00000000e+00   0.00000000e+00\n",
    "#    0.00000000e+00   0.00000000e+00   0.00000000e+00   1.00000000e+00\n",
    "#    0.00000000e+00   5.60000000e+01   2.61000000e+02   1.00000000e+00\n",
    "#    9.99000000e+02   0.00000000e+00   1.10000000e+00   9.39940000e+01\n",
    "#   -3.64000000e+01   4.85700000e+00   5.19100000e+03]\n"
   ]
  },
  {
   "cell_type": "code",
   "execution_count": 38,
   "metadata": {
    "collapsed": false
   },
   "outputs": [
    {
     "name": "stdout",
     "output_type": "stream",
     "text": [
      "(24712, 63)\n",
      "(16476, 63)\n"
     ]
    }
   ],
   "source": [
    "# Splitting data\n",
    "X_train, X_test, Y_train, Y_test = train_test_split(encoded_features1.todense(), target, test_size=0.4, random_state=0)\n",
    "print(X_train.shape)\n",
    "print(X_test.shape)"
   ]
  },
  {
   "cell_type": "code",
   "execution_count": 39,
   "metadata": {
    "collapsed": true
   },
   "outputs": [],
   "source": [
    "def run_classifier(classifier_id):    \n",
    "    classifiers = (None, RandomForestClassifier, SVC, LogisticRegression, DecisionTreeClassifier)\n",
    "\n",
    "    # grid1 = [{'n_estimators' : [50, 100, 250, 500, 1000]}]\n",
    "    grid1 = [{'n_estimators' : [50, 100, 250]}]\n",
    "    grid2 = [{'kernel': ['rbf', 'linear'], 'C': [0.1, 1.0, 100.0],'gamma': [0.001, 0.1, 10.0], 'class_weight' : ['auto'], 'probability' : [True]}]\n",
    "    grid3 = [{'C' : [1], 'class_weight' : ['auto']}]\n",
    "    grid4 = [{'max_features' : ['sqrt', 'log2', 20]}]\n",
    "\n",
    "    grids = (None, grid1, grid2, grid3, grid4)\n",
    "    grid_obj = grids[classifier_id]\n",
    "    cls_obj = classifiers[classifier_id]\n",
    "\n",
    "    best_score = None\n",
    "    print (\"Performing cross validation using parameter grid...\")\n",
    "    for one_param in ParameterGrid(grid_obj):\n",
    "        print(repr(one_param))\n",
    "        cls = cls_obj(**one_param)\n",
    "\n",
    "        one_score = cross_val_score(cls, X_train, Y_train, cv=5, scoring = 'roc_auc')\n",
    "        mscore = one_score.mean()\n",
    "\n",
    "        print (\"param=%s, score=%.6f\" % (repr(one_param),mscore))\n",
    "\n",
    "        if ( best_score is None or best_score < mscore): \n",
    "            best_param = one_param\n",
    "            best_score = mscore\n",
    "            best_model = cls\n",
    "\n",
    "    print (\"Best score for Cross Validation: %.6f\" % best_score)\n",
    "\n",
    "    ### ROC\n",
    "    roc_name = (None, \"Random Forest\", \"SVM\", \"Logistic Regression\", \"Decision Trees\")\n",
    "    probas_ = best_model.fit(X_train, Y_train).predict_proba(X_test) # len(probas_) = size of testing set\n",
    "#     print(\"probas_ = \")\n",
    "#     print(probas_)\n",
    "\n",
    "    # Compute ROC curve and area the curve\n",
    "    fpr, tpr, thresholds = roc_curve(Y_test, probas_[:, 1]) # pick prob. of yes(encoded as 1)(corresponds to index 1)\n",
    "#     print(\"=============\")\n",
    "#     print(\"length of fpr = \" + str(len(fpr))) # 237\n",
    "#     print(fpr)\n",
    "#     print(\"length of tpr = \" + str(len(tpr))) # 237\n",
    "#     print(tpr)\n",
    "#     print(\"length of thresholds = \" + str(len(thresholds))) # 237\n",
    "#     print(thresholds)\n",
    "#     print(\"=============\")\n",
    "    roc_auc = auc(fpr, tpr)\n",
    "    print(\"Area under the ROC curve : %f\" % roc_auc)\n",
    "\n",
    "    # Plot ROC curve\n",
    "    pl.clf()\n",
    "    pl.plot(fpr, tpr, label='ROC curve (area = %0.2f)' % roc_auc)\n",
    "    pl.plot([0, 1], [0, 1], 'k--')\n",
    "    pl.xlim([0.0, 1.0])\n",
    "    pl.ylim([0.0, 1.0])\n",
    "    pl.xlabel('False Positive Rate')\n",
    "    pl.ylabel('True Positive Rate')\n",
    "    pl.title('Receiver operating characteristic- %s' % (roc_name[classifier_id]))\n",
    "    pl.legend(loc=\"lower right\")\n",
    "    pl.show()"
   ]
  },
  {
   "cell_type": "code",
   "execution_count": 40,
   "metadata": {
    "collapsed": false
   },
   "outputs": [
    {
     "name": "stdout",
     "output_type": "stream",
     "text": [
      "Performing cross validation using parameter grid...\n",
      "{'n_estimators': 50}\n",
      "param={'n_estimators': 50}, score=0.933166\n",
      "{'n_estimators': 100}\n",
      "param={'n_estimators': 100}, score=0.935511\n",
      "{'n_estimators': 250}\n",
      "param={'n_estimators': 250}, score=0.937288\n",
      "Best score for Cross Validation: 0.937288\n",
      "Area under the ROC curve : 0.945183\n"
     ]
    },
    {
     "data": {
      "image/png": "[encoded data removed]",
      "text/plain": [
       "<matplotlib.figure.Figure at 0x1055b2470>"
      ]
     },
     "metadata": {},
     "output_type": "display_data"
    }
   ],
   "source": [
    "run_classifier(1)"
   ]
  },
  {
   "cell_type": "code",
   "execution_count": null,
   "metadata": {
    "collapsed": true
   },
   "outputs": [],
   "source": [
    "# TODO BUG: cannot run SVM\n",
    "run_classifier(2)"
   ]
  },
  {
   "cell_type": "code",
   "execution_count": 41,
   "metadata": {
    "collapsed": false
   },
   "outputs": [
    {
     "name": "stderr",
     "output_type": "stream",
     "text": [
      "/Users/de-weikung/anaconda/lib/python3.5/site-packages/sklearn/utils/class_weight.py:62: DeprecationWarning: The class_weight='auto' heuristic is deprecated in 0.17 in favor of a new heuristic class_weight='balanced'. 'auto' will be removed in 0.19\n",
      "  \" 0.19\", DeprecationWarning)\n",
      "/Users/de-weikung/anaconda/lib/python3.5/site-packages/sklearn/utils/class_weight.py:62: DeprecationWarning: The class_weight='auto' heuristic is deprecated in 0.17 in favor of a new heuristic class_weight='balanced'. 'auto' will be removed in 0.19\n",
      "  \" 0.19\", DeprecationWarning)\n",
      "/Users/de-weikung/anaconda/lib/python3.5/site-packages/sklearn/utils/class_weight.py:62: DeprecationWarning: The class_weight='auto' heuristic is deprecated in 0.17 in favor of a new heuristic class_weight='balanced'. 'auto' will be removed in 0.19\n",
      "  \" 0.19\", DeprecationWarning)\n",
      "/Users/de-weikung/anaconda/lib/python3.5/site-packages/sklearn/utils/class_weight.py:62: DeprecationWarning: The class_weight='auto' heuristic is deprecated in 0.17 in favor of a new heuristic class_weight='balanced'. 'auto' will be removed in 0.19\n",
      "  \" 0.19\", DeprecationWarning)\n"
     ]
    },
    {
     "name": "stdout",
     "output_type": "stream",
     "text": [
      "Performing cross validation using parameter grid...\n",
      "{'C': 1, 'class_weight': 'auto'}\n",
      "param={'C': 1, 'class_weight': 'auto'}, score=0.935834"
     ]
    },
    {
     "name": "stderr",
     "output_type": "stream",
     "text": [
      "/Users/de-weikung/anaconda/lib/python3.5/site-packages/sklearn/utils/class_weight.py:62: DeprecationWarning: The class_weight='auto' heuristic is deprecated in 0.17 in favor of a new heuristic class_weight='balanced'. 'auto' will be removed in 0.19\n",
      "  \" 0.19\", DeprecationWarning)\n",
      "/Users/de-weikung/anaconda/lib/python3.5/site-packages/sklearn/utils/class_weight.py:62: DeprecationWarning: The class_weight='auto' heuristic is deprecated in 0.17 in favor of a new heuristic class_weight='balanced'. 'auto' will be removed in 0.19\n",
      "  \" 0.19\", DeprecationWarning)\n"
     ]
    },
    {
     "name": "stdout",
     "output_type": "stream",
     "text": [
      "\n",
      "Best score for Cross Validation: 0.935834\n",
      "Area under the ROC curve : 0.938484\n"
     ]
    },
    {
     "data": {
      "image/png": "[encoded data removed]",
      "text/plain": [
       "<matplotlib.figure.Figure at 0x10a921ef0>"
      ]
     },
     "metadata": {},
     "output_type": "display_data"
    }
   ],
   "source": [
    "run_classifier(3)"
   ]
  },
  {
   "cell_type": "code",
   "execution_count": 42,
   "metadata": {
    "collapsed": false
   },
   "outputs": [
    {
     "name": "stdout",
     "output_type": "stream",
     "text": [
      "Performing cross validation using parameter grid...\n",
      "{'max_features': 'sqrt'}\n",
      "param={'max_features': 'sqrt'}, score=0.705151\n",
      "{'max_features': 'log2'}\n",
      "param={'max_features': 'log2'}, score=0.703397\n",
      "{'max_features': 20}\n",
      "param={'max_features': 20}, score=0.720932\n",
      "Best score for Cross Validation: 0.720932\n",
      "Area under the ROC curve : 0.728399\n"
     ]
    },
    {
     "data": {
      "image/png": "[encoded data removed]",
      "text/plain": [
       "<matplotlib.figure.Figure at 0x10fd91198>"
      ]
     },
     "metadata": {},
     "output_type": "display_data"
    }
   ],
   "source": [
    "run_classifier(4)"
   ]
  },
  {
   "cell_type": "code",
   "execution_count": 43,
   "metadata": {
    "collapsed": true
   },
   "outputs": [],
   "source": []
  },
  {
   "cell_type": "code",
   "execution_count": 44,
   "metadata": {
    "collapsed": false
   },
   "outputs": [],
   "source": []
  },
  {
   "cell_type": "code",
   "execution_count": null,
   "metadata": {
    "collapsed": false
   },
   "outputs": [],
   "source": []
  },
  {
   "cell_type": "code",
   "execution_count": null,
   "metadata": {
    "collapsed": false
   },
   "outputs": [],
   "source": []
  },
  {
   "cell_type": "code",
   "execution_count": null,
   "metadata": {
    "collapsed": false
   },
   "outputs": [],
   "source": []
  },
  {
   "cell_type": "code",
   "execution_count": null,
   "metadata": {
    "collapsed": false
   },
   "outputs": [],
   "source": []
  },
  {
   "cell_type": "code",
   "execution_count": null,
   "metadata": {
    "collapsed": false
   },
   "outputs": [],
   "source": []
  },
  {
   "cell_type": "code",
   "execution_count": 49,
   "metadata": {
    "collapsed": false
   },
   "outputs": [
    {
     "name": "stdout",
     "output_type": "stream",
     "text": [
      "[ 0.  0.  0. ...,  0.  1.  0.]\n"
     ]
    }
   ],
   "source": [
    "print(target)"
   ]
  },
  {
   "cell_type": "code",
   "execution_count": 50,
   "metadata": {
    "collapsed": false
   },
   "outputs": [
    {
     "name": "stdout",
     "output_type": "stream",
     "text": [
      "[ 1.  0.  0. ...,  0.  0.  0.]\n"
     ]
    }
   ],
   "source": [
    "print(Y_test)"
   ]
  },
  {
   "cell_type": "code",
   "execution_count": null,
   "metadata": {
    "collapsed": true
   },
   "outputs": [],
   "source": []
  }
 ],
 "metadata": {
  "kernelspec": {
   "display_name": "Python 3",
   "language": "python",
   "name": "python3"
  },
  "language_info": {
   "codemirror_mode": {
    "name": "ipython",
    "version": 3
   },
   "file_extension": ".py",
   "mimetype": "text/x-python",
   "name": "python",
   "nbconvert_exporter": "python",
   "pygments_lexer": "ipython3",
   "version": "3.5.1"
  }
 },
 "nbformat": 4,
 "nbformat_minor": 0
}
